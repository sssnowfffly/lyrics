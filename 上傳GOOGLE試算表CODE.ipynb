{
 "cells": [
  {
   "cell_type": "code",
   "execution_count": null,
   "metadata": {},
   "outputs": [],
   "source": [
    "import gspread\n",
    "from oauth2client.service_account import ServiceAccountCredentials\n",
    "\n",
    "def auth_gss_client(path, scopes):\n",
    "    credentials = ServiceAccountCredentials.from_json_keyfile_name(path,scopes)\n",
    "    return gspread.authorize(credentials)\n",
    "\n",
    "auth_json_path = 'auth.json'\n",
    "gss_scopes = ['https://spreadsheets.google.com/feeds']\n",
    "\n",
    "gss_client = auth_gss_client(auth_json_path, gss_scopes)"
   ]
  },
  {
   "cell_type": "code",
   "execution_count": null,
   "metadata": {},
   "outputs": [],
   "source": [
    "spreadsheet_key=\"1fhWGzgwrDeXCmJ1HvxPLZkw1qYPy_MZ15BFsZuXhyp4\"\n",
    "spreadsheet_key_path = spreadsheet_key\n",
    "\n",
    "wks = gss_client.open_by_key(spreadsheet_key)\n",
    "sheet = wks.worksheet(\"sheet3\")"
   ]
  },
  {
   "cell_type": "code",
   "execution_count": null,
   "metadata": {},
   "outputs": [],
   "source": [
    "import time\n",
    "a=1\n",
    "if str(sheet.cell(a,1).value) == \"\" :\n",
    "    for keyword in worddict.keys(): \n",
    "        sheet.update_cell(a, 1,str(keyword))\n",
    "        sheet.update_cell(a, 2,worddict[keyword])\n",
    "        time.sleep(3)\n",
    "else:\n",
    "    a+=1\n",
    "    time.sleep(3)"
   ]
  }
 ],
 "metadata": {
  "kernelspec": {
   "display_name": "Python 3",
   "language": "python",
   "name": "python3"
  },
  "language_info": {
   "codemirror_mode": {
    "name": "ipython",
    "version": 3
   },
   "file_extension": ".py",
   "mimetype": "text/x-python",
   "name": "python",
   "nbconvert_exporter": "python",
   "pygments_lexer": "ipython3",
   "version": "3.6.5"
  }
 },
 "nbformat": 4,
 "nbformat_minor": 2
}
